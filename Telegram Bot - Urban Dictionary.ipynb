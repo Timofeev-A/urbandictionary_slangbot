{
 "cells": [
  {
   "cell_type": "markdown",
   "metadata": {},
   "source": [
    "### Web Scraping Telegram Bot\n",
    "\n",
    "This project was created to demonstrate the use of the BeautifulSoup library\n",
    "and its integration with ever popular Telegram Bot API. \n",
    "\n",
    "In this particular example I will be making a Telegram Bot, which will take \n",
    "text input, that will be used to search a word in the directory on the website \n",
    "and it's dictionary definition scraped from the resulting page. This definition \n",
    "would be then sent as a response to the input in the telegrams dialogue window. \n",
    "\n",
    "In case the word is not listed in the dictionary, the resulting message response\n",
    "in the dialogue window will indicate error."
   ]
  },
  {
   "cell_type": "markdown",
   "metadata": {},
   "source": [
    "Library imports:"
   ]
  },
  {
   "cell_type": "code",
   "execution_count": null,
   "metadata": {},
   "outputs": [],
   "source": [
    "# Asyncio is a library to write concurrent code using the async/await syntax.\n",
    "import asyncio\n",
    "\n",
    "# Telepot helps you build applications for Telegram Bot API. \n",
    "import telepot\n",
    "import telepot.aio\n",
    "from telepot.aio.loop import MessageLoop\n",
    "\n",
    "#“Pretty-print” structures in a form which can be used as input to the interpreter.\n",
    "from pprint import pprint\n",
    "\n",
    "#Beautiful Soup is a Python library for pulling data out of HTML and XML files.\n",
    "from bs4 import BeautifulSoup\n",
    "\n",
    "# Requests is a HTTP library for the Python programming language. \n",
    "import requests"
   ]
  },
  {
   "cell_type": "markdown",
   "metadata": {},
   "source": [
    "#### FINAL CODE:"
   ]
  },
  {
   "cell_type": "code",
   "execution_count": null,
   "metadata": {},
   "outputs": [],
   "source": [
    "import asyncio\n",
    "import telepot\n",
    "import telepot.aio\n",
    "from telepot.aio.loop import MessageLoop\n",
    "from pprint import pprint\n",
    "from bs4 import BeautifulSoup\n",
    "import requests\n",
    "\n",
    "async def handle(msg):\n",
    "    global chat_id\n",
    "    # These are some useful variables\n",
    "    content_type, chat_type, chat_id = telepot.glance(msg)\n",
    "\t    # Log variables\n",
    "    print(content_type, chat_type, chat_id)\n",
    "    pprint(msg)\n",
    "    username = msg['chat']['first_name']\n",
    "    # Check that the content type is text and not the starting\n",
    "    if content_type == 'text':\n",
    "        if msg['text'] != '/start':\n",
    "            text = msg['text']\n",
    "\t         # it's better to strip and lower the input\n",
    "            text = text.strip()\n",
    "            await getMeaning(text.lower())\n",
    "\n",
    "async def getMeaning(text):\n",
    "    # create url\n",
    "    url = 'https://www.urbandictionary.com/define.php?term=' + text\n",
    "    # get page\n",
    "    page = requests.get(url)\n",
    "\t# let's soup the page\n",
    "    soup = BeautifulSoup(page.text, 'html.parser')\n",
    "    #pprint(soup)\n",
    "\n",
    "    try:\n",
    "        try:\n",
    "            # get definition\n",
    "            definition = soup.find('div', {\"class\" : 'meaning'}).text\n",
    "            await bot.sendMessage(chat_id, definition)\n",
    "\n",
    "        except:\n",
    "            await bot.sendMessage(chat_id, 'Meaning not found!')\n",
    "    except:\n",
    "        await bot.sendMessage(chat_id, 'Something went wrong...')\n",
    "\n",
    "\t# Program startup\n",
    "TOKEN = '1983335411:AAEEtYwPUzBxm1wykQ-BHsM3vnSoNHkh_84'\n",
    "bot = telepot.aio.Bot(TOKEN)\n",
    "loop = asyncio.get_event_loop()\n",
    "loop.create_task(MessageLoop(bot, handle).run_forever())\n",
    "print('Listening ...')\n",
    "\n",
    "\t# Keep the program running\n",
    "loop.run_forever()\n"
   ]
  }
 ],
 "metadata": {
  "kernelspec": {
   "display_name": "Python 3",
   "language": "python",
   "name": "python3"
  },
  "language_info": {
   "codemirror_mode": {
    "name": "ipython",
    "version": 3
   },
   "file_extension": ".py",
   "mimetype": "text/x-python",
   "name": "python",
   "nbconvert_exporter": "python",
   "pygments_lexer": "ipython3",
   "version": "3.8.5"
  }
 },
 "nbformat": 4,
 "nbformat_minor": 4
}
